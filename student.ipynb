{
 "cells": [
  {
   "cell_type": "markdown",
   "metadata": {},
   "source": [
    "## Final Project Submission\n",
    "\n",
    "Please fill out:\n",
    "* Student name: Amina Hagi\n",
    "* Student pace: Full time\n",
    "* Scheduled project review date/time: \n",
    "* Instructor name: Lucille Kaleha, Samuel Karu, Nikita Njoroge and Diana Mongina.\n",
    "* Blog post URL:\n"
   ]
  },
  {
   "cell_type": "markdown",
   "metadata": {},
   "source": [
    " # Microsoft Movie Studio Project"
   ]
  },
  {
   "cell_type": "markdown",
   "metadata": {},
   "source": [
    "## Business Understanding\n",
    "### Microsoft is planning to enter the movie industry and needs insights into successful movie genres to make informed decisions. This analysis aims to identify the most profitable movie genres based on box office performance and IMDb ratings."
   ]
  },
  {
   "cell_type": "markdown",
   "metadata": {},
   "source": [
    "## Data Understanding\n",
    "\n",
    "### We will use data from various sources, including an SQLite database and a CSV file. The main datasets used are:\n",
    "### - `im.db`: Contains movie basics and ratings data (SQLite database).\n",
    "### - `bom.movie_gross.csv.gz`: Contains box office gross data (CSV file)."
   ]
  },
  {
   "cell_type": "markdown",
   "metadata": {},
   "source": [
    "## Data Preparation\n",
    "\n",
    "### We will load the data, clean it by handling missing values, and merge relevant tables for analysis."
   ]
  },
  {
   "cell_type": "code",
   "execution_count": 23,
   "metadata": {},
   "outputs": [],
   "source": [
    "# Import necessary libraries\n",
    "import pandas as pd\n",
    "import sqlite3\n",
    "import matplotlib.pyplot as plt\n",
    "import seaborn as sns"
   ]
  },
  {
   "cell_type": "code",
   "execution_count": null,
   "metadata": {},
   "outputs": [],
   "source": [
    "# Connect to the SQLite database\n",
    "conn = sqlite3.connect('im.db')"
   ]
  },
  {
   "cell_type": "code",
   "execution_count": 15,
   "metadata": {},
   "outputs": [
    {
     "name": "stdout",
     "output_type": "stream",
     "text": [
      "[]\n"
     ]
    }
   ],
   "source": [
    "# List all tables in the database\n",
    "query = \"SELECT name FROM sqlite_master WHERE type='table';\"\n",
    "tables = conn.execute(query).fetchall()\n",
    "tables = [table[0] for table in tables]\n",
    "print(tables)"
   ]
  },
  {
   "cell_type": "code",
   "execution_count": 16,
   "metadata": {},
   "outputs": [
    {
     "ename": "DatabaseError",
     "evalue": "Execution failed on sql '\n    SELECT *\n    FROM movie_basics\n': no such table: movie_basics",
     "output_type": "error",
     "traceback": [
      "\u001b[0;31m---------------------------------------------------------------------------\u001b[0m",
      "\u001b[0;31mOperationalError\u001b[0m                          Traceback (most recent call last)",
      "File \u001b[0;32m~/anaconda3/lib/python3.11/site-packages/pandas/io/sql.py:2202\u001b[0m, in \u001b[0;36mSQLiteDatabase.execute\u001b[0;34m(self, sql, params)\u001b[0m\n\u001b[1;32m   2201\u001b[0m \u001b[39mtry\u001b[39;00m:\n\u001b[0;32m-> 2202\u001b[0m     cur\u001b[39m.\u001b[39mexecute(sql, \u001b[39m*\u001b[39margs)\n\u001b[1;32m   2203\u001b[0m     \u001b[39mreturn\u001b[39;00m cur\n",
      "\u001b[0;31mOperationalError\u001b[0m: no such table: movie_basics",
      "\nThe above exception was the direct cause of the following exception:\n",
      "\u001b[0;31mDatabaseError\u001b[0m                             Traceback (most recent call last)",
      "\u001b[1;32m/home/amina/data-science/Projects/dsc-phase-1-project-v2-4/student.ipynb Cell 9\u001b[0m line \u001b[0;36m6\n\u001b[1;32m      <a href='vscode-notebook-cell:/home/amina/data-science/Projects/dsc-phase-1-project-v2-4/student.ipynb#X35sZmlsZQ%3D%3D?line=0'>1</a>\u001b[0m \u001b[39m# Load data from SQLite database (IMDB data)\u001b[39;00m\n\u001b[1;32m      <a href='vscode-notebook-cell:/home/amina/data-science/Projects/dsc-phase-1-project-v2-4/student.ipynb#X35sZmlsZQ%3D%3D?line=1'>2</a>\u001b[0m query \u001b[39m=\u001b[39m \u001b[39m\"\"\"\u001b[39m\n\u001b[1;32m      <a href='vscode-notebook-cell:/home/amina/data-science/Projects/dsc-phase-1-project-v2-4/student.ipynb#X35sZmlsZQ%3D%3D?line=2'>3</a>\u001b[0m \u001b[39m    SELECT *\u001b[39m\n\u001b[1;32m      <a href='vscode-notebook-cell:/home/amina/data-science/Projects/dsc-phase-1-project-v2-4/student.ipynb#X35sZmlsZQ%3D%3D?line=3'>4</a>\u001b[0m \u001b[39m    FROM movie_basics\u001b[39m\n\u001b[1;32m      <a href='vscode-notebook-cell:/home/amina/data-science/Projects/dsc-phase-1-project-v2-4/student.ipynb#X35sZmlsZQ%3D%3D?line=4'>5</a>\u001b[0m \u001b[39m\"\"\"\u001b[39m\n\u001b[0;32m----> <a href='vscode-notebook-cell:/home/amina/data-science/Projects/dsc-phase-1-project-v2-4/student.ipynb#X35sZmlsZQ%3D%3D?line=5'>6</a>\u001b[0m df_imdb \u001b[39m=\u001b[39m pd\u001b[39m.\u001b[39mread_sql_query(query, conn)\n",
      "File \u001b[0;32m~/anaconda3/lib/python3.11/site-packages/pandas/io/sql.py:469\u001b[0m, in \u001b[0;36mread_sql_query\u001b[0;34m(sql, con, index_col, coerce_float, params, parse_dates, chunksize, dtype, dtype_backend)\u001b[0m\n\u001b[1;32m    466\u001b[0m     dtype_backend \u001b[39m=\u001b[39m \u001b[39m\"\u001b[39m\u001b[39mnumpy\u001b[39m\u001b[39m\"\u001b[39m  \u001b[39m# type: ignore[assignment]\u001b[39;00m\n\u001b[1;32m    468\u001b[0m \u001b[39mwith\u001b[39;00m pandasSQL_builder(con) \u001b[39mas\u001b[39;00m pandas_sql:\n\u001b[0;32m--> 469\u001b[0m     \u001b[39mreturn\u001b[39;00m pandas_sql\u001b[39m.\u001b[39mread_query(\n\u001b[1;32m    470\u001b[0m         sql,\n\u001b[1;32m    471\u001b[0m         index_col\u001b[39m=\u001b[39mindex_col,\n\u001b[1;32m    472\u001b[0m         params\u001b[39m=\u001b[39mparams,\n\u001b[1;32m    473\u001b[0m         coerce_float\u001b[39m=\u001b[39mcoerce_float,\n\u001b[1;32m    474\u001b[0m         parse_dates\u001b[39m=\u001b[39mparse_dates,\n\u001b[1;32m    475\u001b[0m         chunksize\u001b[39m=\u001b[39mchunksize,\n\u001b[1;32m    476\u001b[0m         dtype\u001b[39m=\u001b[39mdtype,\n\u001b[1;32m    477\u001b[0m         dtype_backend\u001b[39m=\u001b[39mdtype_backend,\n\u001b[1;32m    478\u001b[0m     )\n",
      "File \u001b[0;32m~/anaconda3/lib/python3.11/site-packages/pandas/io/sql.py:2266\u001b[0m, in \u001b[0;36mSQLiteDatabase.read_query\u001b[0;34m(self, sql, index_col, coerce_float, parse_dates, params, chunksize, dtype, dtype_backend)\u001b[0m\n\u001b[1;32m   2255\u001b[0m \u001b[39mdef\u001b[39;00m \u001b[39mread_query\u001b[39m(\n\u001b[1;32m   2256\u001b[0m     \u001b[39mself\u001b[39m,\n\u001b[1;32m   2257\u001b[0m     sql,\n\u001b[0;32m   (...)\u001b[0m\n\u001b[1;32m   2264\u001b[0m     dtype_backend: DtypeBackend \u001b[39m|\u001b[39m Literal[\u001b[39m\"\u001b[39m\u001b[39mnumpy\u001b[39m\u001b[39m\"\u001b[39m] \u001b[39m=\u001b[39m \u001b[39m\"\u001b[39m\u001b[39mnumpy\u001b[39m\u001b[39m\"\u001b[39m,\n\u001b[1;32m   2265\u001b[0m ) \u001b[39m-\u001b[39m\u001b[39m>\u001b[39m DataFrame \u001b[39m|\u001b[39m Iterator[DataFrame]:\n\u001b[0;32m-> 2266\u001b[0m     cursor \u001b[39m=\u001b[39m \u001b[39mself\u001b[39m\u001b[39m.\u001b[39mexecute(sql, params)\n\u001b[1;32m   2267\u001b[0m     columns \u001b[39m=\u001b[39m [col_desc[\u001b[39m0\u001b[39m] \u001b[39mfor\u001b[39;00m col_desc \u001b[39min\u001b[39;00m cursor\u001b[39m.\u001b[39mdescription]\n\u001b[1;32m   2269\u001b[0m     \u001b[39mif\u001b[39;00m chunksize \u001b[39mis\u001b[39;00m \u001b[39mnot\u001b[39;00m \u001b[39mNone\u001b[39;00m:\n",
      "File \u001b[0;32m~/anaconda3/lib/python3.11/site-packages/pandas/io/sql.py:2214\u001b[0m, in \u001b[0;36mSQLiteDatabase.execute\u001b[0;34m(self, sql, params)\u001b[0m\n\u001b[1;32m   2211\u001b[0m     \u001b[39mraise\u001b[39;00m ex \u001b[39mfrom\u001b[39;00m \u001b[39minner_exc\u001b[39;00m\n\u001b[1;32m   2213\u001b[0m ex \u001b[39m=\u001b[39m DatabaseError(\u001b[39mf\u001b[39m\u001b[39m\"\u001b[39m\u001b[39mExecution failed on sql \u001b[39m\u001b[39m'\u001b[39m\u001b[39m{\u001b[39;00msql\u001b[39m}\u001b[39;00m\u001b[39m'\u001b[39m\u001b[39m: \u001b[39m\u001b[39m{\u001b[39;00mexc\u001b[39m}\u001b[39;00m\u001b[39m\"\u001b[39m)\n\u001b[0;32m-> 2214\u001b[0m \u001b[39mraise\u001b[39;00m ex \u001b[39mfrom\u001b[39;00m \u001b[39mexc\u001b[39;00m\n",
      "\u001b[0;31mDatabaseError\u001b[0m: Execution failed on sql '\n    SELECT *\n    FROM movie_basics\n': no such table: movie_basics"
     ]
    }
   ],
   "source": [
    "# Load data from SQLite database (IMDB data)\n",
    "query = \"\"\"\n",
    "    SELECT *\n",
    "    FROM movie_basics\n",
    "\"\"\"\n",
    "df_imdb = pd.read_sql_query(query, conn)"
   ]
  },
  {
   "cell_type": "code",
   "execution_count": 8,
   "metadata": {},
   "outputs": [],
   "source": [
    "# Specify the full file path to the CSV file\n",
    "csv_file_path = '/home/amina/data-science/Projects/dsc-phase-1-project-v2-4/zippedData/bom.movie_gross.csv.gz'\n",
    "\n",
    "# Load data from CSV\n",
    "df_bom = pd.read_csv(csv_file_path)"
   ]
  },
  {
   "cell_type": "markdown",
   "metadata": {},
   "source": [
    "## Data Cleaning and Preparation"
   ]
  },
  {
   "cell_type": "code",
   "execution_count": 7,
   "metadata": {},
   "outputs": [
    {
     "ename": "NameError",
     "evalue": "name 'df_imdb' is not defined",
     "output_type": "error",
     "traceback": [
      "\u001b[0;31m---------------------------------------------------------------------------\u001b[0m",
      "\u001b[0;31mNameError\u001b[0m                                 Traceback (most recent call last)",
      "\u001b[1;32m/home/amina/data-science/Projects/dsc-phase-1-project-v2-4/student.ipynb Cell 12\u001b[0m line \u001b[0;36m2\n\u001b[1;32m      <a href='vscode-notebook-cell:/home/amina/data-science/Projects/dsc-phase-1-project-v2-4/student.ipynb#X41sZmlsZQ%3D%3D?line=0'>1</a>\u001b[0m \u001b[39m# Drop rows with missing values\u001b[39;00m\n\u001b[0;32m----> <a href='vscode-notebook-cell:/home/amina/data-science/Projects/dsc-phase-1-project-v2-4/student.ipynb#X41sZmlsZQ%3D%3D?line=1'>2</a>\u001b[0m df_imdb\u001b[39m.\u001b[39mdropna(subset\u001b[39m=\u001b[39m[\u001b[39m'\u001b[39m\u001b[39mruntime_minutes\u001b[39m\u001b[39m'\u001b[39m, \u001b[39m'\u001b[39m\u001b[39mgenres\u001b[39m\u001b[39m'\u001b[39m], inplace\u001b[39m=\u001b[39m\u001b[39mTrue\u001b[39;00m)\n\u001b[1;32m      <a href='vscode-notebook-cell:/home/amina/data-science/Projects/dsc-phase-1-project-v2-4/student.ipynb#X41sZmlsZQ%3D%3D?line=2'>3</a>\u001b[0m df_bom\u001b[39m.\u001b[39mdropna(subset\u001b[39m=\u001b[39m[\u001b[39m'\u001b[39m\u001b[39mdomestic_gross\u001b[39m\u001b[39m'\u001b[39m], inplace\u001b[39m=\u001b[39m\u001b[39mTrue\u001b[39;00m)\n",
      "\u001b[0;31mNameError\u001b[0m: name 'df_imdb' is not defined"
     ]
    }
   ],
   "source": [
    "# Drop rows with missing values\n",
    "df_imdb.dropna(subset=['runtime_minutes', 'genres'], inplace=True)\n",
    "df_bom.dropna(subset=['domestic_gross'], inplace=True)"
   ]
  },
  {
   "cell_type": "code",
   "execution_count": 6,
   "metadata": {},
   "outputs": [
    {
     "ename": "NameError",
     "evalue": "name 'df_imdb' is not defined",
     "output_type": "error",
     "traceback": [
      "\u001b[0;31m---------------------------------------------------------------------------\u001b[0m",
      "\u001b[0;31mNameError\u001b[0m                                 Traceback (most recent call last)",
      "\u001b[1;32m/home/amina/data-science/Projects/dsc-phase-1-project-v2-4/student.ipynb Cell 13\u001b[0m line \u001b[0;36m2\n\u001b[1;32m      <a href='vscode-notebook-cell:/home/amina/data-science/Projects/dsc-phase-1-project-v2-4/student.ipynb#X42sZmlsZQ%3D%3D?line=0'>1</a>\u001b[0m \u001b[39m# Merge datasets on a common column (e.g., movie title)\u001b[39;00m\n\u001b[0;32m----> <a href='vscode-notebook-cell:/home/amina/data-science/Projects/dsc-phase-1-project-v2-4/student.ipynb#X42sZmlsZQ%3D%3D?line=1'>2</a>\u001b[0m df_merged \u001b[39m=\u001b[39m pd\u001b[39m.\u001b[39mmerge(df_imdb, df_bom, how\u001b[39m=\u001b[39m\u001b[39m'\u001b[39m\u001b[39minner\u001b[39m\u001b[39m'\u001b[39m, left_on\u001b[39m=\u001b[39m\u001b[39m'\u001b[39m\u001b[39mprimary_title\u001b[39m\u001b[39m'\u001b[39m, right_on\u001b[39m=\u001b[39m\u001b[39m'\u001b[39m\u001b[39mtitle\u001b[39m\u001b[39m'\u001b[39m)\n\u001b[1;32m      <a href='vscode-notebook-cell:/home/amina/data-science/Projects/dsc-phase-1-project-v2-4/student.ipynb#X42sZmlsZQ%3D%3D?line=2'>3</a>\u001b[0m df_merged\n",
      "\u001b[0;31mNameError\u001b[0m: name 'df_imdb' is not defined"
     ]
    }
   ],
   "source": [
    "# Merge datasets on a common column (e.g., movie title)\n",
    "df_merged = pd.merge(df_imdb, df_bom, how='inner', left_on='primary_title', right_on='title')\n",
    "df_merged"
   ]
  },
  {
   "cell_type": "markdown",
   "metadata": {},
   "source": [
    "## Data Analysis\n",
    "### Analyze the data to identify the most profitable movie genres by considering average ratings, total domestic gross, and average runtime."
   ]
  },
  {
   "cell_type": "code",
   "execution_count": 4,
   "metadata": {},
   "outputs": [
    {
     "ename": "NameError",
     "evalue": "name 'df_merged' is not defined",
     "output_type": "error",
     "traceback": [
      "\u001b[0;31m---------------------------------------------------------------------------\u001b[0m",
      "\u001b[0;31mNameError\u001b[0m                                 Traceback (most recent call last)",
      "\u001b[1;32m/home/amina/data-science/Projects/dsc-phase-1-project-v2-4/student.ipynb Cell 15\u001b[0m line \u001b[0;36m2\n\u001b[1;32m      <a href='vscode-notebook-cell:/home/amina/data-science/Projects/dsc-phase-1-project-v2-4/student.ipynb#X20sZmlsZQ%3D%3D?line=0'>1</a>\u001b[0m \u001b[39m# Calculate average rating by genre\u001b[39;00m\n\u001b[0;32m----> <a href='vscode-notebook-cell:/home/amina/data-science/Projects/dsc-phase-1-project-v2-4/student.ipynb#X20sZmlsZQ%3D%3D?line=1'>2</a>\u001b[0m genre_ratings \u001b[39m=\u001b[39m df_merged\u001b[39m.\u001b[39mgroupby(\u001b[39m'\u001b[39m\u001b[39mgenres\u001b[39m\u001b[39m'\u001b[39m)[\u001b[39m'\u001b[39m\u001b[39mrating\u001b[39m\u001b[39m'\u001b[39m]\u001b[39m.\u001b[39mmean()\u001b[39m.\u001b[39msort_values(ascending\u001b[39m=\u001b[39m\u001b[39mFalse\u001b[39;00m)\n\u001b[1;32m      <a href='vscode-notebook-cell:/home/amina/data-science/Projects/dsc-phase-1-project-v2-4/student.ipynb#X20sZmlsZQ%3D%3D?line=2'>3</a>\u001b[0m genre_ratings\n",
      "\u001b[0;31mNameError\u001b[0m: name 'df_merged' is not defined"
     ]
    }
   ],
   "source": [
    "# Calculate average rating by genre\n",
    "genre_ratings = df_merged.groupby('genres')['rating'].mean().sort_values(ascending=False)\n",
    "genre_ratings"
   ]
  },
  {
   "cell_type": "code",
   "execution_count": 3,
   "metadata": {},
   "outputs": [
    {
     "ename": "NameError",
     "evalue": "name 'df_merged' is not defined",
     "output_type": "error",
     "traceback": [
      "\u001b[0;31m---------------------------------------------------------------------------\u001b[0m",
      "\u001b[0;31mNameError\u001b[0m                                 Traceback (most recent call last)",
      "\u001b[1;32m/home/amina/data-science/Projects/dsc-phase-1-project-v2-4/student.ipynb Cell 16\u001b[0m line \u001b[0;36m2\n\u001b[1;32m      <a href='vscode-notebook-cell:/home/amina/data-science/Projects/dsc-phase-1-project-v2-4/student.ipynb#X21sZmlsZQ%3D%3D?line=0'>1</a>\u001b[0m \u001b[39m# Calculate total domestic gross by genre\u001b[39;00m\n\u001b[0;32m----> <a href='vscode-notebook-cell:/home/amina/data-science/Projects/dsc-phase-1-project-v2-4/student.ipynb#X21sZmlsZQ%3D%3D?line=1'>2</a>\u001b[0m genre_gross \u001b[39m=\u001b[39m df_merged\u001b[39m.\u001b[39mgroupby(\u001b[39m'\u001b[39m\u001b[39mgenres\u001b[39m\u001b[39m'\u001b[39m)[\u001b[39m'\u001b[39m\u001b[39mdomestic_gross\u001b[39m\u001b[39m'\u001b[39m]\u001b[39m.\u001b[39msum()\u001b[39m.\u001b[39msort_values(ascending\u001b[39m=\u001b[39m\u001b[39mFalse\u001b[39;00m)\n\u001b[1;32m      <a href='vscode-notebook-cell:/home/amina/data-science/Projects/dsc-phase-1-project-v2-4/student.ipynb#X21sZmlsZQ%3D%3D?line=2'>3</a>\u001b[0m genre_gross\n",
      "\u001b[0;31mNameError\u001b[0m: name 'df_merged' is not defined"
     ]
    }
   ],
   "source": [
    "# Calculate total domestic gross by genre\n",
    "genre_gross = df_merged.groupby('genres')['domestic_gross'].sum().sort_values(ascending=False)\n",
    "genre_gross"
   ]
  },
  {
   "cell_type": "code",
   "execution_count": 19,
   "metadata": {},
   "outputs": [
    {
     "ename": "NameError",
     "evalue": "name 'df_merged' is not defined",
     "output_type": "error",
     "traceback": [
      "\u001b[0;31m---------------------------------------------------------------------------\u001b[0m",
      "\u001b[0;31mNameError\u001b[0m                                 Traceback (most recent call last)",
      "\u001b[1;32m/home/amina/data-science/Projects/dsc-phase-1-project-v2-4/student.ipynb Cell 16\u001b[0m line \u001b[0;36m2\n\u001b[1;32m      <a href='vscode-notebook-cell:/home/amina/data-science/Projects/dsc-phase-1-project-v2-4/student.ipynb#X36sZmlsZQ%3D%3D?line=0'>1</a>\u001b[0m \u001b[39m# Calculate average runtime by genre\u001b[39;00m\n\u001b[0;32m----> <a href='vscode-notebook-cell:/home/amina/data-science/Projects/dsc-phase-1-project-v2-4/student.ipynb#X36sZmlsZQ%3D%3D?line=1'>2</a>\u001b[0m genre_runtime \u001b[39m=\u001b[39m df_merged\u001b[39m.\u001b[39mgroupby(\u001b[39m'\u001b[39m\u001b[39mgenres\u001b[39m\u001b[39m'\u001b[39m)[\u001b[39m'\u001b[39m\u001b[39mruntime_minutes\u001b[39m\u001b[39m'\u001b[39m]\u001b[39m.\u001b[39mmean()\u001b[39m.\u001b[39msort_values(ascending\u001b[39m=\u001b[39m\u001b[39mFalse\u001b[39;00m)\n",
      "\u001b[0;31mNameError\u001b[0m: name 'df_merged' is not defined"
     ]
    }
   ],
   "source": [
    "# Calculate average runtime by genre\n",
    "genre_runtime = df_merged.groupby('genres')['runtime_minutes'].mean().sort_values(ascending=False)\n",
    "genre_runtime"
   ]
  },
  {
   "cell_type": "markdown",
   "metadata": {},
   "source": [
    "## Visualization\n",
    "\n",
    "### We will use visualizations to present our findings effectively."
   ]
  },
  {
   "cell_type": "code",
   "execution_count": 20,
   "metadata": {},
   "outputs": [
    {
     "ename": "NameError",
     "evalue": "name 'genre_ratings' is not defined",
     "output_type": "error",
     "traceback": [
      "\u001b[0;31m---------------------------------------------------------------------------\u001b[0m",
      "\u001b[0;31mNameError\u001b[0m                                 Traceback (most recent call last)",
      "\u001b[1;32m/home/amina/data-science/Projects/dsc-phase-1-project-v2-4/student.ipynb Cell 18\u001b[0m line \u001b[0;36m3\n\u001b[1;32m      <a href='vscode-notebook-cell:/home/amina/data-science/Projects/dsc-phase-1-project-v2-4/student.ipynb#X43sZmlsZQ%3D%3D?line=0'>1</a>\u001b[0m \u001b[39m# Plot average rating by genre\u001b[39;00m\n\u001b[1;32m      <a href='vscode-notebook-cell:/home/amina/data-science/Projects/dsc-phase-1-project-v2-4/student.ipynb#X43sZmlsZQ%3D%3D?line=1'>2</a>\u001b[0m plt\u001b[39m.\u001b[39mfigure(figsize\u001b[39m=\u001b[39m(\u001b[39m12\u001b[39m, \u001b[39m6\u001b[39m))\n\u001b[0;32m----> <a href='vscode-notebook-cell:/home/amina/data-science/Projects/dsc-phase-1-project-v2-4/student.ipynb#X43sZmlsZQ%3D%3D?line=2'>3</a>\u001b[0m sns\u001b[39m.\u001b[39mbarplot(x\u001b[39m=\u001b[39mgenre_ratings\u001b[39m.\u001b[39mvalues, y\u001b[39m=\u001b[39mgenre_ratings\u001b[39m.\u001b[39mindex, palette\u001b[39m=\u001b[39m\u001b[39m'\u001b[39m\u001b[39mviridis\u001b[39m\u001b[39m'\u001b[39m)\n\u001b[1;32m      <a href='vscode-notebook-cell:/home/amina/data-science/Projects/dsc-phase-1-project-v2-4/student.ipynb#X43sZmlsZQ%3D%3D?line=3'>4</a>\u001b[0m plt\u001b[39m.\u001b[39mtitle(\u001b[39m'\u001b[39m\u001b[39mAverage Rating by Genre\u001b[39m\u001b[39m'\u001b[39m)\n\u001b[1;32m      <a href='vscode-notebook-cell:/home/amina/data-science/Projects/dsc-phase-1-project-v2-4/student.ipynb#X43sZmlsZQ%3D%3D?line=4'>5</a>\u001b[0m plt\u001b[39m.\u001b[39mxlabel(\u001b[39m'\u001b[39m\u001b[39mAverage Rating\u001b[39m\u001b[39m'\u001b[39m)\n",
      "\u001b[0;31mNameError\u001b[0m: name 'genre_ratings' is not defined"
     ]
    },
    {
     "data": {
      "text/plain": [
       "<Figure size 1200x600 with 0 Axes>"
      ]
     },
     "metadata": {},
     "output_type": "display_data"
    }
   ],
   "source": [
    "# Plot average rating by genre\n",
    "plt.figure(figsize=(12, 6))\n",
    "sns.barplot(x=genre_ratings.values, y=genre_ratings.index, palette='viridis')\n",
    "plt.title('Average Rating by Genre')\n",
    "plt.xlabel('Average Rating')\n",
    "plt.ylabel('Genre')\n",
    "plt.show()"
   ]
  },
  {
   "cell_type": "code",
   "execution_count": 21,
   "metadata": {},
   "outputs": [
    {
     "ename": "NameError",
     "evalue": "name 'genre_gross' is not defined",
     "output_type": "error",
     "traceback": [
      "\u001b[0;31m---------------------------------------------------------------------------\u001b[0m",
      "\u001b[0;31mNameError\u001b[0m                                 Traceback (most recent call last)",
      "\u001b[1;32m/home/amina/data-science/Projects/dsc-phase-1-project-v2-4/student.ipynb Cell 19\u001b[0m line \u001b[0;36m3\n\u001b[1;32m      <a href='vscode-notebook-cell:/home/amina/data-science/Projects/dsc-phase-1-project-v2-4/student.ipynb#X44sZmlsZQ%3D%3D?line=0'>1</a>\u001b[0m \u001b[39m# Plot total domestic gross by genre\u001b[39;00m\n\u001b[1;32m      <a href='vscode-notebook-cell:/home/amina/data-science/Projects/dsc-phase-1-project-v2-4/student.ipynb#X44sZmlsZQ%3D%3D?line=1'>2</a>\u001b[0m plt\u001b[39m.\u001b[39mfigure(figsize\u001b[39m=\u001b[39m(\u001b[39m12\u001b[39m, \u001b[39m6\u001b[39m))\n\u001b[0;32m----> <a href='vscode-notebook-cell:/home/amina/data-science/Projects/dsc-phase-1-project-v2-4/student.ipynb#X44sZmlsZQ%3D%3D?line=2'>3</a>\u001b[0m sns\u001b[39m.\u001b[39mbarplot(x\u001b[39m=\u001b[39mgenre_gross\u001b[39m.\u001b[39mvalues, y\u001b[39m=\u001b[39mgenre_gross\u001b[39m.\u001b[39mindex, palette\u001b[39m=\u001b[39m\u001b[39m'\u001b[39m\u001b[39mplasma\u001b[39m\u001b[39m'\u001b[39m)\n\u001b[1;32m      <a href='vscode-notebook-cell:/home/amina/data-science/Projects/dsc-phase-1-project-v2-4/student.ipynb#X44sZmlsZQ%3D%3D?line=3'>4</a>\u001b[0m plt\u001b[39m.\u001b[39mtitle(\u001b[39m'\u001b[39m\u001b[39mTotal Domestic Gross by Genre\u001b[39m\u001b[39m'\u001b[39m)\n\u001b[1;32m      <a href='vscode-notebook-cell:/home/amina/data-science/Projects/dsc-phase-1-project-v2-4/student.ipynb#X44sZmlsZQ%3D%3D?line=4'>5</a>\u001b[0m plt\u001b[39m.\u001b[39mxlabel(\u001b[39m'\u001b[39m\u001b[39mTotal Domestic Gross (in billions)\u001b[39m\u001b[39m'\u001b[39m)\n",
      "\u001b[0;31mNameError\u001b[0m: name 'genre_gross' is not defined"
     ]
    },
    {
     "data": {
      "text/plain": [
       "<Figure size 1200x600 with 0 Axes>"
      ]
     },
     "metadata": {},
     "output_type": "display_data"
    }
   ],
   "source": [
    "# Plot total domestic gross by genre\n",
    "plt.figure(figsize=(12, 6))\n",
    "sns.barplot(x=genre_gross.values, y=genre_gross.index, palette='plasma')\n",
    "plt.title('Total Domestic Gross by Genre')\n",
    "plt.xlabel('Total Domestic Gross (in billions)')\n",
    "plt.ylabel('Genre')\n",
    "plt.show()"
   ]
  },
  {
   "cell_type": "code",
   "execution_count": 22,
   "metadata": {},
   "outputs": [
    {
     "ename": "NameError",
     "evalue": "name 'genre_runtime' is not defined",
     "output_type": "error",
     "traceback": [
      "\u001b[0;31m---------------------------------------------------------------------------\u001b[0m",
      "\u001b[0;31mNameError\u001b[0m                                 Traceback (most recent call last)",
      "\u001b[1;32m/home/amina/data-science/Projects/dsc-phase-1-project-v2-4/student.ipynb Cell 20\u001b[0m line \u001b[0;36m3\n\u001b[1;32m      <a href='vscode-notebook-cell:/home/amina/data-science/Projects/dsc-phase-1-project-v2-4/student.ipynb#X45sZmlsZQ%3D%3D?line=0'>1</a>\u001b[0m \u001b[39m# Plot average runtime by genre\u001b[39;00m\n\u001b[1;32m      <a href='vscode-notebook-cell:/home/amina/data-science/Projects/dsc-phase-1-project-v2-4/student.ipynb#X45sZmlsZQ%3D%3D?line=1'>2</a>\u001b[0m plt\u001b[39m.\u001b[39mfigure(figsize\u001b[39m=\u001b[39m(\u001b[39m12\u001b[39m, \u001b[39m6\u001b[39m))\n\u001b[0;32m----> <a href='vscode-notebook-cell:/home/amina/data-science/Projects/dsc-phase-1-project-v2-4/student.ipynb#X45sZmlsZQ%3D%3D?line=2'>3</a>\u001b[0m sns\u001b[39m.\u001b[39mbarplot(x\u001b[39m=\u001b[39mgenre_runtime\u001b[39m.\u001b[39mvalues, y\u001b[39m=\u001b[39mgenre_runtime\u001b[39m.\u001b[39mindex, palette\u001b[39m=\u001b[39m\u001b[39m'\u001b[39m\u001b[39mmagma\u001b[39m\u001b[39m'\u001b[39m)\n\u001b[1;32m      <a href='vscode-notebook-cell:/home/amina/data-science/Projects/dsc-phase-1-project-v2-4/student.ipynb#X45sZmlsZQ%3D%3D?line=3'>4</a>\u001b[0m plt\u001b[39m.\u001b[39mtitle(\u001b[39m'\u001b[39m\u001b[39mAverage Runtime by Genre\u001b[39m\u001b[39m'\u001b[39m)\n\u001b[1;32m      <a href='vscode-notebook-cell:/home/amina/data-science/Projects/dsc-phase-1-project-v2-4/student.ipynb#X45sZmlsZQ%3D%3D?line=4'>5</a>\u001b[0m plt\u001b[39m.\u001b[39mxlabel(\u001b[39m'\u001b[39m\u001b[39mAverage Runtime (minutes)\u001b[39m\u001b[39m'\u001b[39m)\n",
      "\u001b[0;31mNameError\u001b[0m: name 'genre_runtime' is not defined"
     ]
    },
    {
     "data": {
      "text/plain": [
       "<Figure size 1200x600 with 0 Axes>"
      ]
     },
     "metadata": {},
     "output_type": "display_data"
    }
   ],
   "source": [
    "# Plot average runtime by genre\n",
    "plt.figure(figsize=(12, 6))\n",
    "sns.barplot(x=genre_runtime.values, y=genre_runtime.index, palette='magma')\n",
    "plt.title('Average Runtime by Genre')\n",
    "plt.xlabel('Average Runtime (minutes)')\n",
    "plt.ylabel('Genre')\n",
    "plt.show()"
   ]
  },
  {
   "cell_type": "markdown",
   "metadata": {},
   "source": [
    "## Business Recommendations\n",
    "\n",
    "### Based on our analysis, we can provide the following recommendations to Microsoft's new movie studio:\n",
    "\n",
    "### 1. Produce movies in genres with the highest average ratings to ensure audience satisfaction and positive reviews.\n",
    "\n",
    "### 2. Invest in genres with the highest total domestic gross, as they have a track record of generating significant revenue.\n",
    "\n",
    "### 3. Consider the average runtime when planning movie production. Understanding the preferred runtime for each genre can help in budgeting and scheduling."
   ]
  },
  {
   "cell_type": "code",
   "execution_count": 23,
   "metadata": {},
   "outputs": [],
   "source": [
    "# Close the database connection\n",
    "conn.close()"
   ]
  }
 ],
 "metadata": {
  "kernelspec": {
   "display_name": "Python 3 (ipykernel)",
   "language": "python",
   "name": "python3"
  },
  "language_info": {
   "codemirror_mode": {
    "name": "ipython",
    "version": 3
   },
   "file_extension": ".py",
   "mimetype": "text/x-python",
   "name": "python",
   "nbconvert_exporter": "python",
   "pygments_lexer": "ipython3",
   "version": "3.11.4"
  }
 },
 "nbformat": 4,
 "nbformat_minor": 2
}
